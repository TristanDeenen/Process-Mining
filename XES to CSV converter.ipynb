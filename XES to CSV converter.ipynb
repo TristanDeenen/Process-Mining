{
 "cells": [
  {
   "cell_type": "code",
   "execution_count": 1,
   "id": "fd613eac",
   "metadata": {},
   "outputs": [
    {
     "data": {
      "application/vnd.jupyter.widget-view+json": {
       "model_id": "a96d5d1eac6a45d5aee96e12ad1d5c2b",
       "version_major": 2,
       "version_minor": 0
      },
      "text/plain": [
       "parsing log, completed traces ::   0%|          | 0/13087 [00:00<?, ?it/s]"
      ]
     },
     "metadata": {},
     "output_type": "display_data"
    }
   ],
   "source": [
    "import csv  \n",
    "from pm4py.objects.conversion.log import converter as xes_converter\n",
    "from pm4py.objects.log.importer.xes import importer as xes_importer\n",
    "\n",
    "target = 'data/BPI_Challenge_2012/BPI_Challenge_2012.xes.gz'\n",
    "destination = 'BPI_2012_Converted.csv'\n",
    "\n",
    "log = xes_importer.apply(target)\n",
    "pd = xes_converter.apply(log, variant=xes_converter.Variants.TO_DATA_FRAME)\n",
    "\n",
    "pd.to_csv(destination)"
   ]
  },
  {
   "cell_type": "code",
   "execution_count": null,
   "id": "f7f9fbf1",
   "metadata": {},
   "outputs": [],
   "source": []
  }
 ],
 "metadata": {
  "kernelspec": {
   "display_name": "Python 3 (ipykernel)",
   "language": "python",
   "name": "python3"
  },
  "language_info": {
   "codemirror_mode": {
    "name": "ipython",
    "version": 3
   },
   "file_extension": ".py",
   "mimetype": "text/x-python",
   "name": "python",
   "nbconvert_exporter": "python",
   "pygments_lexer": "ipython3",
   "version": "3.9.7"
  }
 },
 "nbformat": 4,
 "nbformat_minor": 5
}
