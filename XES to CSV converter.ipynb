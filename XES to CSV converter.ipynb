{
 "cells": [
  {
   "cell_type": "code",
   "execution_count": 2,
   "id": "b70f5404",
   "metadata": {},
   "outputs": [
    {
     "name": "stdout",
     "output_type": "stream",
     "text": [
      "Collecting pm4py\n",
      "  Using cached pm4py-2.2.19.2-py3-none-any.whl (1.8 MB)\n",
      "Collecting graphviz\n",
      "  Using cached graphviz-0.19.1-py3-none-any.whl (46 kB)\n",
      "Collecting sympy\n",
      "  Using cached sympy-1.10.1-py3-none-any.whl (6.4 MB)\n",
      "Collecting networkx\n",
      "  Downloading networkx-2.7.1-py3-none-any.whl (2.0 MB)\n",
      "Requirement already satisfied: numpy>=1.19.5 in c:\\users\\20204502\\.conda\\envs\\bpi\\lib\\site-packages (from pm4py) (1.22.2)\n",
      "Collecting tqdm\n",
      "  Downloading tqdm-4.63.1-py2.py3-none-any.whl (76 kB)\n",
      "Collecting matplotlib\n",
      "  Using cached matplotlib-3.5.1-cp39-cp39-win_amd64.whl (7.2 MB)\n",
      "Requirement already satisfied: scipy in c:\\users\\20204502\\.conda\\envs\\bpi\\lib\\site-packages (from pm4py) (1.7.3)\n",
      "Requirement already satisfied: pandas>=1.1.5 in c:\\users\\20204502\\.conda\\envs\\bpi\\lib\\site-packages (from pm4py) (1.4.1)\n",
      "Collecting lxml\n",
      "  Downloading lxml-4.8.0-cp39-cp39-win_amd64.whl (3.6 MB)\n",
      "Collecting pyvis\n",
      "  Using cached pyvis-0.1.9-py3-none-any.whl (23 kB)\n",
      "Collecting deprecation\n",
      "  Using cached deprecation-2.1.0-py2.py3-none-any.whl (11 kB)\n",
      "Collecting stringdist\n",
      "  Using cached StringDist-1.0.9-py3-none-any.whl\n",
      "Requirement already satisfied: pytz in c:\\users\\20204502\\.conda\\envs\\bpi\\lib\\site-packages (from pm4py) (2021.3)\n",
      "Collecting intervaltree\n",
      "  Using cached intervaltree-3.1.0-py2.py3-none-any.whl\n",
      "Collecting pydotplus\n",
      "  Using cached pydotplus-2.0.2-py3-none-any.whl\n",
      "Collecting cvxopt\n",
      "  Downloading cvxopt-1.3.0-cp39-cp39-win_amd64.whl (12.7 MB)\n",
      "Collecting jsonpickle\n",
      "  Using cached jsonpickle-2.1.0-py2.py3-none-any.whl (38 kB)\n",
      "Requirement already satisfied: python-dateutil>=2.8.1 in c:\\users\\20204502\\.conda\\envs\\bpi\\lib\\site-packages (from pandas>=1.1.5->pm4py) (2.8.2)\n",
      "Requirement already satisfied: six>=1.5 in c:\\users\\20204502\\.conda\\envs\\bpi\\lib\\site-packages (from python-dateutil>=2.8.1->pandas>=1.1.5->pm4py) (1.16.0)\n",
      "Requirement already satisfied: packaging in c:\\users\\20204502\\.conda\\envs\\bpi\\lib\\site-packages (from deprecation->pm4py) (21.3)\n",
      "Collecting sortedcontainers<3.0,>=2.0\n",
      "  Using cached sortedcontainers-2.4.0-py2.py3-none-any.whl (29 kB)\n",
      "Requirement already satisfied: pyparsing>=2.2.1 in c:\\users\\20204502\\.conda\\envs\\bpi\\lib\\site-packages (from matplotlib->pm4py) (3.0.4)\n",
      "Collecting pillow>=6.2.0\n",
      "  Downloading Pillow-9.0.1-cp39-cp39-win_amd64.whl (3.2 MB)\n",
      "Collecting cycler>=0.10\n",
      "  Using cached cycler-0.11.0-py3-none-any.whl (6.4 kB)\n",
      "Collecting kiwisolver>=1.0.1\n",
      "  Downloading kiwisolver-1.4.0-cp39-cp39-win_amd64.whl (51 kB)\n",
      "Collecting fonttools>=4.22.0\n",
      "  Downloading fonttools-4.31.2-py3-none-any.whl (899 kB)Note: you may need to restart the kernel to use updated packages.\n",
      "\n",
      "Requirement already satisfied: ipython>=5.3.0 in c:\\users\\20204502\\.conda\\envs\\bpi\\lib\\site-packages (from pyvis->pm4py) (8.1.1)\n",
      "Collecting jinja2>=2.9.6\n",
      "  Downloading Jinja2-3.1.0-py3-none-any.whl (132 kB)\n",
      "Requirement already satisfied: traitlets>=5 in c:\\users\\20204502\\.conda\\envs\\bpi\\lib\\site-packages (from ipython>=5.3.0->pyvis->pm4py) (5.1.1)\n",
      "Requirement already satisfied: decorator in c:\\users\\20204502\\.conda\\envs\\bpi\\lib\\site-packages (from ipython>=5.3.0->pyvis->pm4py) (5.1.1)\n",
      "Requirement already satisfied: backcall in c:\\users\\20204502\\.conda\\envs\\bpi\\lib\\site-packages (from ipython>=5.3.0->pyvis->pm4py) (0.2.0)\n",
      "Requirement already satisfied: matplotlib-inline in c:\\users\\20204502\\.conda\\envs\\bpi\\lib\\site-packages (from ipython>=5.3.0->pyvis->pm4py) (0.1.3)\n",
      "Requirement already satisfied: setuptools>=18.5 in c:\\users\\20204502\\.conda\\envs\\bpi\\lib\\site-packages (from ipython>=5.3.0->pyvis->pm4py) (58.0.4)\n",
      "Requirement already satisfied: prompt-toolkit!=3.0.0,!=3.0.1,<3.1.0,>=2.0.0 in c:\\users\\20204502\\.conda\\envs\\bpi\\lib\\site-packages (from ipython>=5.3.0->pyvis->pm4py) (3.0.27)\n",
      "Requirement already satisfied: colorama in c:\\users\\20204502\\.conda\\envs\\bpi\\lib\\site-packages (from ipython>=5.3.0->pyvis->pm4py) (0.4.4)\n",
      "Requirement already satisfied: jedi>=0.16 in c:\\users\\20204502\\.conda\\envs\\bpi\\lib\\site-packages (from ipython>=5.3.0->pyvis->pm4py) (0.18.1)\n",
      "Requirement already satisfied: pygments>=2.4.0 in c:\\users\\20204502\\.conda\\envs\\bpi\\lib\\site-packages (from ipython>=5.3.0->pyvis->pm4py) (2.11.2)\n",
      "Requirement already satisfied: stack-data in c:\\users\\20204502\\.conda\\envs\\bpi\\lib\\site-packages (from ipython>=5.3.0->pyvis->pm4py) (0.2.0)\n",
      "Requirement already satisfied: pickleshare in c:\\users\\20204502\\.conda\\envs\\bpi\\lib\\site-packages (from ipython>=5.3.0->pyvis->pm4py) (0.7.5)\n",
      "Requirement already satisfied: parso<0.9.0,>=0.8.0 in c:\\users\\20204502\\.conda\\envs\\bpi\\lib\\site-packages (from jedi>=0.16->ipython>=5.3.0->pyvis->pm4py) (0.8.3)\n",
      "Collecting MarkupSafe>=2.0\n",
      "  Downloading MarkupSafe-2.1.1-cp39-cp39-win_amd64.whl (17 kB)\n",
      "Requirement already satisfied: wcwidth in c:\\users\\20204502\\.conda\\envs\\bpi\\lib\\site-packages (from prompt-toolkit!=3.0.0,!=3.0.1,<3.1.0,>=2.0.0->ipython>=5.3.0->pyvis->pm4py) (0.2.5)\n",
      "Requirement already satisfied: asttokens in c:\\users\\20204502\\.conda\\envs\\bpi\\lib\\site-packages (from stack-data->ipython>=5.3.0->pyvis->pm4py) (2.0.5)\n",
      "Requirement already satisfied: executing in c:\\users\\20204502\\.conda\\envs\\bpi\\lib\\site-packages (from stack-data->ipython>=5.3.0->pyvis->pm4py) (0.8.3)\n",
      "Requirement already satisfied: pure-eval in c:\\users\\20204502\\.conda\\envs\\bpi\\lib\\site-packages (from stack-data->ipython>=5.3.0->pyvis->pm4py) (0.2.2)\n",
      "Collecting mpmath>=0.19\n",
      "  Using cached mpmath-1.2.1-py3-none-any.whl (532 kB)\n",
      "Installing collected packages: MarkupSafe, sortedcontainers, pillow, networkx, mpmath, kiwisolver, jsonpickle, jinja2, fonttools, cycler, tqdm, sympy, stringdist, pyvis, pydotplus, matplotlib, lxml, intervaltree, graphviz, deprecation, cvxopt, pm4py\n",
      "Successfully installed MarkupSafe-2.1.1 cvxopt-1.3.0 cycler-0.11.0 deprecation-2.1.0 fonttools-4.31.2 graphviz-0.19.1 intervaltree-3.1.0 jinja2-3.1.0 jsonpickle-2.1.0 kiwisolver-1.4.0 lxml-4.8.0 matplotlib-3.5.1 mpmath-1.2.1 networkx-2.7.1 pillow-9.0.1 pm4py-2.2.19.2 pydotplus-2.0.2 pyvis-0.1.9 sortedcontainers-2.4.0 stringdist-1.0.9 sympy-1.10.1 tqdm-4.63.1\n"
     ]
    }
   ],
   "source": [
    "pip install pm4py"
   ]
  },
  {
   "cell_type": "code",
   "execution_count": 1,
   "id": "fd613eac",
   "metadata": {},
   "outputs": [
    {
     "data": {
      "application/vnd.jupyter.widget-view+json": {
       "model_id": "a96d5d1eac6a45d5aee96e12ad1d5c2b",
       "version_major": 2,
       "version_minor": 0
      },
      "text/plain": [
       "parsing log, completed traces ::   0%|          | 0/13087 [00:00<?, ?it/s]"
      ]
     },
     "metadata": {},
     "output_type": "display_data"
    }
   ],
   "source": [
    "import csv  \n",
    "from pm4py.objects.conversion.log import converter as xes_converter\n",
    "from pm4py.objects.log.importer.xes import importer as xes_importer\n",
    "\n",
    "target = 'data/BPI_Challenge_2012/BPI_Challenge_2012.xes.gz'\n",
    "destination = 'BPI_2012_Converted.csv'\n",
    "\n",
    "log = xes_importer.apply(target)\n",
    "pd = xes_converter.apply(log, variant=xes_converter.Variants.TO_DATA_FRAME)\n",
    "\n",
    "pd.to_csv(destination, index=False)"
   ]
  },
  {
   "cell_type": "code",
   "execution_count": null,
   "id": "f7f9fbf1",
   "metadata": {},
   "outputs": [],
   "source": []
  }
 ],
 "metadata": {
  "kernelspec": {
   "display_name": "Python 3 (ipykernel)",
   "language": "python",
   "name": "python3"
  },
  "language_info": {
   "codemirror_mode": {
    "name": "ipython",
    "version": 3
   },
   "file_extension": ".py",
   "mimetype": "text/x-python",
   "name": "python",
   "nbconvert_exporter": "python",
   "pygments_lexer": "ipython3",
   "version": "3.9.7"
  }
 },
 "nbformat": 4,
 "nbformat_minor": 5
}
